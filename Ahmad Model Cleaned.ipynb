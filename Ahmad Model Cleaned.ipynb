{
 "cells": [
  {
   "cell_type": "code",
   "execution_count": 1,
   "id": "3ee59d1e-700f-46cc-8456-906604934bb5",
   "metadata": {},
   "outputs": [],
   "source": [
    "import pandas as pd\n",
    "import numpy as np\n",
    "import matplotlib.pyplot as plt\n",
    "import seaborn as sns\n",
    "from sklearn.model_selection import train_test_split\n",
    "from sklearn.preprocessing import LabelEncoder\n",
    "from sklearn.preprocessing import StandardScaler, MinMaxScaler,RobustScaler,QuantileTransformer\n",
    "from sklearn.metrics import mean_squared_error,r2_score\n",
    "from sklearn.linear_model import LinearRegression\n",
    "from sklearn.linear_model import GammaRegressor\n",
    "from sklearn.linear_model import PassiveAggressiveRegressor\n",
    "from sklearn.neural_network import MLPRegressor\n",
    "from sklearn.neighbors import KNeighborsRegressor\n",
    "from sklearn.svm import SVR\n",
    "from sklearn.tree import DecisionTreeRegressor,ExtraTreeRegressor\n",
    "from sklearn.ensemble import RandomForestRegressor, AdaBoostRegressor,HistGradientBoostingRegressor\n",
    "from lightgbm import LGBMRegressor\n",
    "from xgboost import XGBRegressor\n",
    "from sklearn.model_selection import cross_val_score\n",
    "from sklearn.model_selection import GridSearchCV\n",
    "from lazypredict.Supervised import LazyRegressor\n",
    "from sklearn.discriminant_analysis import TransformerMixin"
   ]
  },
  {
   "cell_type": "markdown",
   "id": "0453c2b6-b49a-4038-9a73-3de9e79dc268",
   "metadata": {},
   "source": [
    "# Analysis"
   ]
  },
  {
   "cell_type": "code",
   "execution_count": 2,
   "id": "8e326068-decb-49c0-8c2a-3625c68f113c",
   "metadata": {},
   "outputs": [
    {
     "data": {
      "text/html": [
       "<div>\n",
       "<style scoped>\n",
       "    .dataframe tbody tr th:only-of-type {\n",
       "        vertical-align: middle;\n",
       "    }\n",
       "\n",
       "    .dataframe tbody tr th {\n",
       "        vertical-align: top;\n",
       "    }\n",
       "\n",
       "    .dataframe thead th {\n",
       "        text-align: right;\n",
       "    }\n",
       "</style>\n",
       "<table border=\"1\" class=\"dataframe\">\n",
       "  <thead>\n",
       "    <tr style=\"text-align: right;\">\n",
       "      <th></th>\n",
       "      <th>Id</th>\n",
       "      <th>carat</th>\n",
       "      <th>cut</th>\n",
       "      <th>color</th>\n",
       "      <th>clarity</th>\n",
       "      <th>depth</th>\n",
       "      <th>table</th>\n",
       "      <th>price</th>\n",
       "      <th>x</th>\n",
       "      <th>y</th>\n",
       "      <th>z</th>\n",
       "    </tr>\n",
       "  </thead>\n",
       "  <tbody>\n",
       "    <tr>\n",
       "      <th>0</th>\n",
       "      <td>1</td>\n",
       "      <td>1.06</td>\n",
       "      <td>Ideal</td>\n",
       "      <td>I</td>\n",
       "      <td>SI2</td>\n",
       "      <td>61.80</td>\n",
       "      <td>57.00</td>\n",
       "      <td>4270</td>\n",
       "      <td>6.57</td>\n",
       "      <td>6.60</td>\n",
       "      <td>4.07</td>\n",
       "    </tr>\n",
       "    <tr>\n",
       "      <th>1</th>\n",
       "      <td>2</td>\n",
       "      <td>1.51</td>\n",
       "      <td>Premium</td>\n",
       "      <td>G</td>\n",
       "      <td>VVS2</td>\n",
       "      <td>60.90</td>\n",
       "      <td>58.00</td>\n",
       "      <td>15164</td>\n",
       "      <td>7.38</td>\n",
       "      <td>7.42</td>\n",
       "      <td>4.51</td>\n",
       "    </tr>\n",
       "    <tr>\n",
       "      <th>2</th>\n",
       "      <td>3</td>\n",
       "      <td>0.32</td>\n",
       "      <td>Ideal</td>\n",
       "      <td>F</td>\n",
       "      <td>VS2</td>\n",
       "      <td>61.30</td>\n",
       "      <td>56.00</td>\n",
       "      <td>828</td>\n",
       "      <td>4.43</td>\n",
       "      <td>4.41</td>\n",
       "      <td>2.71</td>\n",
       "    </tr>\n",
       "    <tr>\n",
       "      <th>3</th>\n",
       "      <td>4</td>\n",
       "      <td>0.53</td>\n",
       "      <td>Ideal</td>\n",
       "      <td>G</td>\n",
       "      <td>VS2</td>\n",
       "      <td>61.20</td>\n",
       "      <td>56.00</td>\n",
       "      <td>1577</td>\n",
       "      <td>5.19</td>\n",
       "      <td>5.22</td>\n",
       "      <td>3.19</td>\n",
       "    </tr>\n",
       "    <tr>\n",
       "      <th>4</th>\n",
       "      <td>5</td>\n",
       "      <td>0.70</td>\n",
       "      <td>Premium</td>\n",
       "      <td>H</td>\n",
       "      <td>VVS2</td>\n",
       "      <td>61.00</td>\n",
       "      <td>57.00</td>\n",
       "      <td>2596</td>\n",
       "      <td>5.76</td>\n",
       "      <td>5.72</td>\n",
       "      <td>3.50</td>\n",
       "    </tr>\n",
       "    <tr>\n",
       "      <th>...</th>\n",
       "      <td>...</td>\n",
       "      <td>...</td>\n",
       "      <td>...</td>\n",
       "      <td>...</td>\n",
       "      <td>...</td>\n",
       "      <td>...</td>\n",
       "      <td>...</td>\n",
       "      <td>...</td>\n",
       "      <td>...</td>\n",
       "      <td>...</td>\n",
       "      <td>...</td>\n",
       "    </tr>\n",
       "    <tr>\n",
       "      <th>43147</th>\n",
       "      <td>43148</td>\n",
       "      <td>0.52</td>\n",
       "      <td>Ideal</td>\n",
       "      <td>E</td>\n",
       "      <td>VS2</td>\n",
       "      <td>61.50</td>\n",
       "      <td>56.00</td>\n",
       "      <td>1760</td>\n",
       "      <td>5.16</td>\n",
       "      <td>5.18</td>\n",
       "      <td>3.18</td>\n",
       "    </tr>\n",
       "    <tr>\n",
       "      <th>43148</th>\n",
       "      <td>43149</td>\n",
       "      <td>0.72</td>\n",
       "      <td>Very Good</td>\n",
       "      <td>D</td>\n",
       "      <td>VS2</td>\n",
       "      <td>62.10</td>\n",
       "      <td>59.00</td>\n",
       "      <td>3016</td>\n",
       "      <td>5.70</td>\n",
       "      <td>5.73</td>\n",
       "      <td>3.55</td>\n",
       "    </tr>\n",
       "    <tr>\n",
       "      <th>43149</th>\n",
       "      <td>43150</td>\n",
       "      <td>0.44</td>\n",
       "      <td>Premium</td>\n",
       "      <td>I</td>\n",
       "      <td>VVS1</td>\n",
       "      <td>61.50</td>\n",
       "      <td>58.00</td>\n",
       "      <td>990</td>\n",
       "      <td>4.95</td>\n",
       "      <td>4.87</td>\n",
       "      <td>3.02</td>\n",
       "    </tr>\n",
       "    <tr>\n",
       "      <th>43150</th>\n",
       "      <td>43151</td>\n",
       "      <td>0.31</td>\n",
       "      <td>Premium</td>\n",
       "      <td>E</td>\n",
       "      <td>VS1</td>\n",
       "      <td>60.20</td>\n",
       "      <td>58.00</td>\n",
       "      <td>734</td>\n",
       "      <td>4.38</td>\n",
       "      <td>4.43</td>\n",
       "      <td>2.65</td>\n",
       "    </tr>\n",
       "    <tr>\n",
       "      <th>43151</th>\n",
       "      <td>43152</td>\n",
       "      <td>0.33</td>\n",
       "      <td>Ideal</td>\n",
       "      <td>G</td>\n",
       "      <td>VS2</td>\n",
       "      <td>61.20</td>\n",
       "      <td>55.00</td>\n",
       "      <td>743</td>\n",
       "      <td>4.49</td>\n",
       "      <td>4.46</td>\n",
       "      <td>2.74</td>\n",
       "    </tr>\n",
       "  </tbody>\n",
       "</table>\n",
       "<p>43152 rows × 11 columns</p>\n",
       "</div>"
      ],
      "text/plain": [
       "          Id  carat        cut color clarity  depth  table  price    x    y  \\\n",
       "0          1   1.06      Ideal     I     SI2  61.80  57.00   4270 6.57 6.60   \n",
       "1          2   1.51    Premium     G    VVS2  60.90  58.00  15164 7.38 7.42   \n",
       "2          3   0.32      Ideal     F     VS2  61.30  56.00    828 4.43 4.41   \n",
       "3          4   0.53      Ideal     G     VS2  61.20  56.00   1577 5.19 5.22   \n",
       "4          5   0.70    Premium     H    VVS2  61.00  57.00   2596 5.76 5.72   \n",
       "...      ...    ...        ...   ...     ...    ...    ...    ...  ...  ...   \n",
       "43147  43148   0.52      Ideal     E     VS2  61.50  56.00   1760 5.16 5.18   \n",
       "43148  43149   0.72  Very Good     D     VS2  62.10  59.00   3016 5.70 5.73   \n",
       "43149  43150   0.44    Premium     I    VVS1  61.50  58.00    990 4.95 4.87   \n",
       "43150  43151   0.31    Premium     E     VS1  60.20  58.00    734 4.38 4.43   \n",
       "43151  43152   0.33      Ideal     G     VS2  61.20  55.00    743 4.49 4.46   \n",
       "\n",
       "         z  \n",
       "0     4.07  \n",
       "1     4.51  \n",
       "2     2.71  \n",
       "3     3.19  \n",
       "4     3.50  \n",
       "...    ...  \n",
       "43147 3.18  \n",
       "43148 3.55  \n",
       "43149 3.02  \n",
       "43150 2.65  \n",
       "43151 2.74  \n",
       "\n",
       "[43152 rows x 11 columns]"
      ]
     },
     "execution_count": 2,
     "metadata": {},
     "output_type": "execute_result"
    }
   ],
   "source": [
    "data=pd.read_csv('train.csv')\n",
    "data"
   ]
  },
  {
   "cell_type": "code",
   "execution_count": 3,
   "id": "db0df4f6-ad13-4985-81be-a97781e8fe20",
   "metadata": {},
   "outputs": [],
   "source": [
    "data['volume'] = data['x'] * data['y'] * data['z']\n",
    "\n",
    "# Calculate density\n",
    "data['density'] = data['carat'] / data['volume']\n",
    "\n",
    "# Calculate surface area\n",
    "data['surface_area'] = 2 * (data['x'] * data['y'] + data['x'] * data['z'] + data['y'] * data['z'])\n",
    "\n",
    "# Calculate aspect ratio\n",
    "data['aspect_ratio'] = data['x'] / data['y']\n",
    "\n",
    "# Calculate total depth percentage\n",
    "data['total_depth_percentage'] = data['depth'] / data['z']\n",
    "\n",
    "# Calculate table percentage\n",
    "data['table_percentage'] = data['table'] / data[['x', 'y']].mean(axis=1)\n",
    "\n",
    "# Calculate symmetry\n",
    "data['symmetry'] = data['x'] / data['y'] - data['y'] / data['z']\n"
   ]
  },
  {
   "cell_type": "code",
   "execution_count": 4,
   "id": "624729f8-44c4-4d6f-b2b4-d16cae819fe2",
   "metadata": {},
   "outputs": [
    {
     "name": "stdout",
     "output_type": "stream",
     "text": [
      "<class 'pandas.core.frame.DataFrame'>\n",
      "RangeIndex: 43152 entries, 0 to 43151\n",
      "Data columns (total 18 columns):\n",
      " #   Column                  Non-Null Count  Dtype  \n",
      "---  ------                  --------------  -----  \n",
      " 0   Id                      43152 non-null  int64  \n",
      " 1   carat                   43152 non-null  float64\n",
      " 2   cut                     43152 non-null  object \n",
      " 3   color                   43152 non-null  object \n",
      " 4   clarity                 43152 non-null  object \n",
      " 5   depth                   43152 non-null  float64\n",
      " 6   table                   43152 non-null  float64\n",
      " 7   price                   43152 non-null  int64  \n",
      " 8   x                       43152 non-null  float64\n",
      " 9   y                       43152 non-null  float64\n",
      " 10  z                       43152 non-null  float64\n",
      " 11  volume                  43152 non-null  float64\n",
      " 12  density                 43152 non-null  float64\n",
      " 13  surface_area            43152 non-null  float64\n",
      " 14  aspect_ratio            43148 non-null  float64\n",
      " 15  total_depth_percentage  43152 non-null  float64\n",
      " 16  table_percentage        43152 non-null  float64\n",
      " 17  symmetry                43148 non-null  float64\n",
      "dtypes: float64(13), int64(2), object(3)\n",
      "memory usage: 5.9+ MB\n"
     ]
    }
   ],
   "source": [
    "data.info()"
   ]
  },
  {
   "cell_type": "code",
   "execution_count": 5,
   "id": "3d79abba-4f15-4d58-ac85-38a79eef78fa",
   "metadata": {},
   "outputs": [
    {
     "data": {
      "text/html": [
       "<div>\n",
       "<style scoped>\n",
       "    .dataframe tbody tr th:only-of-type {\n",
       "        vertical-align: middle;\n",
       "    }\n",
       "\n",
       "    .dataframe tbody tr th {\n",
       "        vertical-align: top;\n",
       "    }\n",
       "\n",
       "    .dataframe thead th {\n",
       "        text-align: right;\n",
       "    }\n",
       "</style>\n",
       "<table border=\"1\" class=\"dataframe\">\n",
       "  <thead>\n",
       "    <tr style=\"text-align: right;\">\n",
       "      <th></th>\n",
       "      <th>Id</th>\n",
       "      <th>carat</th>\n",
       "      <th>depth</th>\n",
       "      <th>table</th>\n",
       "      <th>price</th>\n",
       "      <th>x</th>\n",
       "      <th>y</th>\n",
       "      <th>z</th>\n",
       "      <th>volume</th>\n",
       "      <th>density</th>\n",
       "      <th>surface_area</th>\n",
       "      <th>aspect_ratio</th>\n",
       "      <th>total_depth_percentage</th>\n",
       "      <th>table_percentage</th>\n",
       "      <th>symmetry</th>\n",
       "    </tr>\n",
       "  </thead>\n",
       "  <tbody>\n",
       "    <tr>\n",
       "      <th>count</th>\n",
       "      <td>43152.00</td>\n",
       "      <td>43152.00</td>\n",
       "      <td>43152.00</td>\n",
       "      <td>43152.00</td>\n",
       "      <td>43152.00</td>\n",
       "      <td>43152.00</td>\n",
       "      <td>43152.00</td>\n",
       "      <td>43152.00</td>\n",
       "      <td>43152.00</td>\n",
       "      <td>43152.00</td>\n",
       "      <td>43152.00</td>\n",
       "      <td>43148.00</td>\n",
       "      <td>43152.00</td>\n",
       "      <td>43152.00</td>\n",
       "      <td>43148.00</td>\n",
       "    </tr>\n",
       "    <tr>\n",
       "      <th>mean</th>\n",
       "      <td>21576.50</td>\n",
       "      <td>0.80</td>\n",
       "      <td>61.75</td>\n",
       "      <td>57.46</td>\n",
       "      <td>3929.49</td>\n",
       "      <td>5.73</td>\n",
       "      <td>5.74</td>\n",
       "      <td>3.54</td>\n",
       "      <td>129.85</td>\n",
       "      <td>inf</td>\n",
       "      <td>152.46</td>\n",
       "      <td>1.00</td>\n",
       "      <td>inf</td>\n",
       "      <td>inf</td>\n",
       "      <td>-inf</td>\n",
       "    </tr>\n",
       "    <tr>\n",
       "      <th>std</th>\n",
       "      <td>12457.05</td>\n",
       "      <td>0.47</td>\n",
       "      <td>1.44</td>\n",
       "      <td>2.23</td>\n",
       "      <td>3985.53</td>\n",
       "      <td>1.12</td>\n",
       "      <td>1.15</td>\n",
       "      <td>0.71</td>\n",
       "      <td>78.62</td>\n",
       "      <td>NaN</td>\n",
       "      <td>60.36</td>\n",
       "      <td>0.01</td>\n",
       "      <td>NaN</td>\n",
       "      <td>NaN</td>\n",
       "      <td>NaN</td>\n",
       "    </tr>\n",
       "    <tr>\n",
       "      <th>min</th>\n",
       "      <td>1.00</td>\n",
       "      <td>0.20</td>\n",
       "      <td>43.00</td>\n",
       "      <td>43.00</td>\n",
       "      <td>326.00</td>\n",
       "      <td>0.00</td>\n",
       "      <td>0.00</td>\n",
       "      <td>0.00</td>\n",
       "      <td>0.00</td>\n",
       "      <td>0.00</td>\n",
       "      <td>0.00</td>\n",
       "      <td>0.00</td>\n",
       "      <td>1.94</td>\n",
       "      <td>1.70</td>\n",
       "      <td>-inf</td>\n",
       "    </tr>\n",
       "    <tr>\n",
       "      <th>25%</th>\n",
       "      <td>10788.75</td>\n",
       "      <td>0.40</td>\n",
       "      <td>61.00</td>\n",
       "      <td>56.00</td>\n",
       "      <td>947.75</td>\n",
       "      <td>4.71</td>\n",
       "      <td>4.72</td>\n",
       "      <td>2.91</td>\n",
       "      <td>65.14</td>\n",
       "      <td>0.01</td>\n",
       "      <td>99.78</td>\n",
       "      <td>0.99</td>\n",
       "      <td>15.30</td>\n",
       "      <td>8.78</td>\n",
       "      <td>-0.64</td>\n",
       "    </tr>\n",
       "    <tr>\n",
       "      <th>50%</th>\n",
       "      <td>21576.50</td>\n",
       "      <td>0.70</td>\n",
       "      <td>61.80</td>\n",
       "      <td>57.00</td>\n",
       "      <td>2401.00</td>\n",
       "      <td>5.70</td>\n",
       "      <td>5.71</td>\n",
       "      <td>3.53</td>\n",
       "      <td>114.83</td>\n",
       "      <td>0.01</td>\n",
       "      <td>145.65</td>\n",
       "      <td>1.00</td>\n",
       "      <td>17.54</td>\n",
       "      <td>10.17</td>\n",
       "      <td>-0.62</td>\n",
       "    </tr>\n",
       "    <tr>\n",
       "      <th>75%</th>\n",
       "      <td>32364.25</td>\n",
       "      <td>1.04</td>\n",
       "      <td>62.50</td>\n",
       "      <td>59.00</td>\n",
       "      <td>5312.00</td>\n",
       "      <td>6.54</td>\n",
       "      <td>6.54</td>\n",
       "      <td>4.04</td>\n",
       "      <td>170.84</td>\n",
       "      <td>0.01</td>\n",
       "      <td>189.87</td>\n",
       "      <td>1.01</td>\n",
       "      <td>21.20</td>\n",
       "      <td>12.11</td>\n",
       "      <td>-0.60</td>\n",
       "    </tr>\n",
       "    <tr>\n",
       "      <th>max</th>\n",
       "      <td>43152.00</td>\n",
       "      <td>5.01</td>\n",
       "      <td>79.00</td>\n",
       "      <td>95.00</td>\n",
       "      <td>18823.00</td>\n",
       "      <td>10.74</td>\n",
       "      <td>58.90</td>\n",
       "      <td>31.80</td>\n",
       "      <td>3840.60</td>\n",
       "      <td>inf</td>\n",
       "      <td>2032.88</td>\n",
       "      <td>1.62</td>\n",
       "      <td>inf</td>\n",
       "      <td>inf</td>\n",
       "      <td>0.83</td>\n",
       "    </tr>\n",
       "  </tbody>\n",
       "</table>\n",
       "</div>"
      ],
      "text/plain": [
       "            Id    carat    depth    table    price        x        y        z  \\\n",
       "count 43152.00 43152.00 43152.00 43152.00 43152.00 43152.00 43152.00 43152.00   \n",
       "mean  21576.50     0.80    61.75    57.46  3929.49     5.73     5.74     3.54   \n",
       "std   12457.05     0.47     1.44     2.23  3985.53     1.12     1.15     0.71   \n",
       "min       1.00     0.20    43.00    43.00   326.00     0.00     0.00     0.00   \n",
       "25%   10788.75     0.40    61.00    56.00   947.75     4.71     4.72     2.91   \n",
       "50%   21576.50     0.70    61.80    57.00  2401.00     5.70     5.71     3.53   \n",
       "75%   32364.25     1.04    62.50    59.00  5312.00     6.54     6.54     4.04   \n",
       "max   43152.00     5.01    79.00    95.00 18823.00    10.74    58.90    31.80   \n",
       "\n",
       "        volume  density  surface_area  aspect_ratio  total_depth_percentage  \\\n",
       "count 43152.00 43152.00      43152.00      43148.00                43152.00   \n",
       "mean    129.85      inf        152.46          1.00                     inf   \n",
       "std      78.62      NaN         60.36          0.01                     NaN   \n",
       "min       0.00     0.00          0.00          0.00                    1.94   \n",
       "25%      65.14     0.01         99.78          0.99                   15.30   \n",
       "50%     114.83     0.01        145.65          1.00                   17.54   \n",
       "75%     170.84     0.01        189.87          1.01                   21.20   \n",
       "max    3840.60      inf       2032.88          1.62                     inf   \n",
       "\n",
       "       table_percentage  symmetry  \n",
       "count          43152.00  43148.00  \n",
       "mean                inf      -inf  \n",
       "std                 NaN       NaN  \n",
       "min                1.70      -inf  \n",
       "25%                8.78     -0.64  \n",
       "50%               10.17     -0.62  \n",
       "75%               12.11     -0.60  \n",
       "max                 inf      0.83  "
      ]
     },
     "execution_count": 5,
     "metadata": {},
     "output_type": "execute_result"
    }
   ],
   "source": [
    "data.describe()"
   ]
  },
  {
   "cell_type": "code",
   "execution_count": 6,
   "id": "5645b386-b3e7-4367-8c81-e3c77beb7063",
   "metadata": {},
   "outputs": [
    {
     "data": {
      "text/plain": [
       "Id                        0\n",
       "carat                     0\n",
       "cut                       0\n",
       "color                     0\n",
       "clarity                   0\n",
       "depth                     0\n",
       "table                     0\n",
       "price                     0\n",
       "x                         0\n",
       "y                         0\n",
       "z                         0\n",
       "volume                    0\n",
       "density                   0\n",
       "surface_area              0\n",
       "aspect_ratio              4\n",
       "total_depth_percentage    0\n",
       "table_percentage          0\n",
       "symmetry                  4\n",
       "dtype: int64"
      ]
     },
     "execution_count": 6,
     "metadata": {},
     "output_type": "execute_result"
    }
   ],
   "source": [
    "data.isnull().sum()"
   ]
  },
  {
   "cell_type": "code",
   "execution_count": 7,
   "id": "4d309a80-ac23-4f1e-be69-26c38195fd76",
   "metadata": {},
   "outputs": [
    {
     "data": {
      "text/plain": [
       "0"
      ]
     },
     "execution_count": 7,
     "metadata": {},
     "output_type": "execute_result"
    }
   ],
   "source": [
    "data.duplicated().sum()"
   ]
  },
  {
   "cell_type": "code",
   "execution_count": 8,
   "id": "48b141d0-ec6d-447d-87f7-e41fe3576e82",
   "metadata": {},
   "outputs": [],
   "source": [
    "data=data.drop(['Id'],axis=1)"
   ]
  },
  {
   "cell_type": "code",
   "execution_count": 9,
   "id": "8461d890-c8e4-4747-b994-b06b3bcd02e1",
   "metadata": {},
   "outputs": [
    {
     "ename": "ValueError",
     "evalue": "could not convert string to float: 'Ideal'",
     "output_type": "error",
     "traceback": [
      "\u001b[1;31m---------------------------------------------------------------------------\u001b[0m",
      "\u001b[1;31mValueError\u001b[0m                                Traceback (most recent call last)",
      "Cell \u001b[1;32mIn[9], line 1\u001b[0m\n\u001b[1;32m----> 1\u001b[0m \u001b[43mdata\u001b[49m\u001b[38;5;241;43m.\u001b[39;49m\u001b[43mcorr\u001b[49m\u001b[43m(\u001b[49m\u001b[43m)\u001b[49m\n",
      "File \u001b[1;32m~\\AppData\\Local\\Programs\\Python\\Python311\\Lib\\site-packages\\pandas\\core\\frame.py:10707\u001b[0m, in \u001b[0;36mDataFrame.corr\u001b[1;34m(self, method, min_periods, numeric_only)\u001b[0m\n\u001b[0;32m  10705\u001b[0m cols \u001b[38;5;241m=\u001b[39m data\u001b[38;5;241m.\u001b[39mcolumns\n\u001b[0;32m  10706\u001b[0m idx \u001b[38;5;241m=\u001b[39m cols\u001b[38;5;241m.\u001b[39mcopy()\n\u001b[1;32m> 10707\u001b[0m mat \u001b[38;5;241m=\u001b[39m \u001b[43mdata\u001b[49m\u001b[38;5;241;43m.\u001b[39;49m\u001b[43mto_numpy\u001b[49m\u001b[43m(\u001b[49m\u001b[43mdtype\u001b[49m\u001b[38;5;241;43m=\u001b[39;49m\u001b[38;5;28;43mfloat\u001b[39;49m\u001b[43m,\u001b[49m\u001b[43m \u001b[49m\u001b[43mna_value\u001b[49m\u001b[38;5;241;43m=\u001b[39;49m\u001b[43mnp\u001b[49m\u001b[38;5;241;43m.\u001b[39;49m\u001b[43mnan\u001b[49m\u001b[43m,\u001b[49m\u001b[43m \u001b[49m\u001b[43mcopy\u001b[49m\u001b[38;5;241;43m=\u001b[39;49m\u001b[38;5;28;43;01mFalse\u001b[39;49;00m\u001b[43m)\u001b[49m\n\u001b[0;32m  10709\u001b[0m \u001b[38;5;28;01mif\u001b[39;00m method \u001b[38;5;241m==\u001b[39m \u001b[38;5;124m\"\u001b[39m\u001b[38;5;124mpearson\u001b[39m\u001b[38;5;124m\"\u001b[39m:\n\u001b[0;32m  10710\u001b[0m     correl \u001b[38;5;241m=\u001b[39m libalgos\u001b[38;5;241m.\u001b[39mnancorr(mat, minp\u001b[38;5;241m=\u001b[39mmin_periods)\n",
      "File \u001b[1;32m~\\AppData\\Local\\Programs\\Python\\Python311\\Lib\\site-packages\\pandas\\core\\frame.py:1892\u001b[0m, in \u001b[0;36mDataFrame.to_numpy\u001b[1;34m(self, dtype, copy, na_value)\u001b[0m\n\u001b[0;32m   1890\u001b[0m \u001b[38;5;28;01mif\u001b[39;00m dtype \u001b[38;5;129;01mis\u001b[39;00m \u001b[38;5;129;01mnot\u001b[39;00m \u001b[38;5;28;01mNone\u001b[39;00m:\n\u001b[0;32m   1891\u001b[0m     dtype \u001b[38;5;241m=\u001b[39m np\u001b[38;5;241m.\u001b[39mdtype(dtype)\n\u001b[1;32m-> 1892\u001b[0m result \u001b[38;5;241m=\u001b[39m \u001b[38;5;28;43mself\u001b[39;49m\u001b[38;5;241;43m.\u001b[39;49m\u001b[43m_mgr\u001b[49m\u001b[38;5;241;43m.\u001b[39;49m\u001b[43mas_array\u001b[49m\u001b[43m(\u001b[49m\u001b[43mdtype\u001b[49m\u001b[38;5;241;43m=\u001b[39;49m\u001b[43mdtype\u001b[49m\u001b[43m,\u001b[49m\u001b[43m \u001b[49m\u001b[43mcopy\u001b[49m\u001b[38;5;241;43m=\u001b[39;49m\u001b[43mcopy\u001b[49m\u001b[43m,\u001b[49m\u001b[43m \u001b[49m\u001b[43mna_value\u001b[49m\u001b[38;5;241;43m=\u001b[39;49m\u001b[43mna_value\u001b[49m\u001b[43m)\u001b[49m\n\u001b[0;32m   1893\u001b[0m \u001b[38;5;28;01mif\u001b[39;00m result\u001b[38;5;241m.\u001b[39mdtype \u001b[38;5;129;01mis\u001b[39;00m \u001b[38;5;129;01mnot\u001b[39;00m dtype:\n\u001b[0;32m   1894\u001b[0m     result \u001b[38;5;241m=\u001b[39m np\u001b[38;5;241m.\u001b[39marray(result, dtype\u001b[38;5;241m=\u001b[39mdtype, copy\u001b[38;5;241m=\u001b[39m\u001b[38;5;28;01mFalse\u001b[39;00m)\n",
      "File \u001b[1;32m~\\AppData\\Local\\Programs\\Python\\Python311\\Lib\\site-packages\\pandas\\core\\internals\\managers.py:1656\u001b[0m, in \u001b[0;36mBlockManager.as_array\u001b[1;34m(self, dtype, copy, na_value)\u001b[0m\n\u001b[0;32m   1654\u001b[0m         arr\u001b[38;5;241m.\u001b[39mflags\u001b[38;5;241m.\u001b[39mwriteable \u001b[38;5;241m=\u001b[39m \u001b[38;5;28;01mFalse\u001b[39;00m\n\u001b[0;32m   1655\u001b[0m \u001b[38;5;28;01melse\u001b[39;00m:\n\u001b[1;32m-> 1656\u001b[0m     arr \u001b[38;5;241m=\u001b[39m \u001b[38;5;28;43mself\u001b[39;49m\u001b[38;5;241;43m.\u001b[39;49m\u001b[43m_interleave\u001b[49m\u001b[43m(\u001b[49m\u001b[43mdtype\u001b[49m\u001b[38;5;241;43m=\u001b[39;49m\u001b[43mdtype\u001b[49m\u001b[43m,\u001b[49m\u001b[43m \u001b[49m\u001b[43mna_value\u001b[49m\u001b[38;5;241;43m=\u001b[39;49m\u001b[43mna_value\u001b[49m\u001b[43m)\u001b[49m\n\u001b[0;32m   1657\u001b[0m     \u001b[38;5;66;03m# The underlying data was copied within _interleave, so no need\u001b[39;00m\n\u001b[0;32m   1658\u001b[0m     \u001b[38;5;66;03m# to further copy if copy=True or setting na_value\u001b[39;00m\n\u001b[0;32m   1660\u001b[0m \u001b[38;5;28;01mif\u001b[39;00m na_value \u001b[38;5;129;01mis\u001b[39;00m lib\u001b[38;5;241m.\u001b[39mno_default:\n",
      "File \u001b[1;32m~\\AppData\\Local\\Programs\\Python\\Python311\\Lib\\site-packages\\pandas\\core\\internals\\managers.py:1715\u001b[0m, in \u001b[0;36mBlockManager._interleave\u001b[1;34m(self, dtype, na_value)\u001b[0m\n\u001b[0;32m   1713\u001b[0m     \u001b[38;5;28;01melse\u001b[39;00m:\n\u001b[0;32m   1714\u001b[0m         arr \u001b[38;5;241m=\u001b[39m blk\u001b[38;5;241m.\u001b[39mget_values(dtype)\n\u001b[1;32m-> 1715\u001b[0m     \u001b[43mresult\u001b[49m\u001b[43m[\u001b[49m\u001b[43mrl\u001b[49m\u001b[38;5;241;43m.\u001b[39;49m\u001b[43mindexer\u001b[49m\u001b[43m]\u001b[49m \u001b[38;5;241m=\u001b[39m arr\n\u001b[0;32m   1716\u001b[0m     itemmask[rl\u001b[38;5;241m.\u001b[39mindexer] \u001b[38;5;241m=\u001b[39m \u001b[38;5;241m1\u001b[39m\n\u001b[0;32m   1718\u001b[0m \u001b[38;5;28;01mif\u001b[39;00m \u001b[38;5;129;01mnot\u001b[39;00m itemmask\u001b[38;5;241m.\u001b[39mall():\n",
      "\u001b[1;31mValueError\u001b[0m: could not convert string to float: 'Ideal'"
     ]
    }
   ],
   "source": [
    "data.corr()"
   ]
  },
  {
   "cell_type": "code",
   "execution_count": null,
   "id": "a9b9f3fd-8792-414b-97ac-f60f7903ed93",
   "metadata": {},
   "outputs": [],
   "source": [
    "data['xyz']=data['x']*data['y']*data['z']\n",
    "data"
   ]
  },
  {
   "cell_type": "code",
   "execution_count": null,
   "id": "e35ec591-661d-4a31-b6e7-b6309c7d739c",
   "metadata": {},
   "outputs": [],
   "source": [
    "# this one for showing boxplots\n",
    "\n",
    "numeric_cols = data.select_dtypes(include=['number']).columns\n",
    "for col in numeric_cols:\n",
    "    if col not in 'price':\n",
    "        plt.figure(figsize=(6, 4))\n",
    "        sns.boxplot(x=data[col])\n",
    "        plt.title(f'Boxplot for {col}')\n",
    "        plt.show()"
   ]
  },
  {
   "cell_type": "markdown",
   "id": "1d23f06a-46bf-4388-92c7-512a89ffb982",
   "metadata": {},
   "source": [
    "# Feature Engineering"
   ]
  },
  {
   "cell_type": "code",
   "execution_count": null,
   "id": "6f3f4545-eba7-42f8-9dd2-c70ae3de2a0b",
   "metadata": {},
   "outputs": [],
   "source": [
    "def impute_outliers_with_bounds(series):\n",
    "    Q1 = series.quantile(0.25)\n",
    "    Q3 = series.quantile(0.75)\n",
    "    IQR = Q3 - Q1\n",
    "    lower_bound = Q1 - 1.5 * IQR\n",
    "    upper_bound = Q3 + 1.5 * IQR\n",
    "    return series.apply(lambda x: lower_bound if x < lower_bound else upper_bound if x > upper_bound else x)\n",
    "num_features = data.select_dtypes(include=[np.number]).columns\n",
    "for feature in num_features:\n",
    "    if feature not in 'price':\n",
    "        data[feature] = impute_outliers_with_bounds(data[feature])"
   ]
  },
  {
   "cell_type": "code",
   "execution_count": null,
   "id": "0af6a30f-360a-46ed-8e3a-a5311de1ad1a",
   "metadata": {},
   "outputs": [],
   "source": [
    "numeric_cols = data.select_dtypes(include=['number']).columns\n",
    "for col in numeric_cols:\n",
    "    plt.figure(figsize=(6, 4))\n",
    "    sns.boxplot(x=data[col])\n",
    "    plt.title(f'Boxplot for {col}')\n",
    "    plt.show()"
   ]
  },
  {
   "cell_type": "code",
   "execution_count": null,
   "id": "61ed2ab0-1631-4ade-bb63-e882f23c6eb4",
   "metadata": {},
   "outputs": [],
   "source": [
    "label_encoder = LabelEncoder()"
   ]
  },
  {
   "cell_type": "code",
   "execution_count": null,
   "id": "79cc76c4-e48d-4c1e-9e34-0e9ff3999940",
   "metadata": {},
   "outputs": [],
   "source": [
    "data['color'] = label_encoder.fit_transform(data['color'])\n",
    "data['cut'] = label_encoder.fit_transform(data['cut'])\n",
    "data['clarity'] = label_encoder.fit_transform(data['clarity'])"
   ]
  },
  {
   "cell_type": "code",
   "execution_count": null,
   "id": "868250e3-f826-4e0c-9cd4-7d1ff57553d5",
   "metadata": {},
   "outputs": [],
   "source": [
    "data"
   ]
  },
  {
   "cell_type": "code",
   "execution_count": null,
   "id": "ae217e7d-ce41-4426-b4a1-27e2188f9c7b",
   "metadata": {},
   "outputs": [],
   "source": [
    "ss=StandardScaler()\n",
    "mm=MinMaxScaler()\n",
    "rs=RobustScaler()\n",
    "qt=QuantileTransformer()\n",
    "ft=FunctionTransformer()"
   ]
  },
  {
   "cell_type": "code",
   "execution_count": null,
   "id": "68da49fb-3d0e-4a41-8322-ecf760494940",
   "metadata": {},
   "outputs": [],
   "source": [
    "data['carat'] =qt.fit_transform(data[['carat']])\n",
    "data['depth'] =qt.fit_transform(data[['depth']])\n",
    "data['table'] =qt.fit_transform(data[['table']])\n",
    "data['x'] =qt.fit_transform(data[['x']])\n",
    "data['y'] =qt.fit_transform(data[['y']])\n",
    "data['z'] =qt.fit_transform(data[['z']])"
   ]
  },
  {
   "cell_type": "code",
   "execution_count": null,
   "id": "929f40b3-3458-4fbb-bae3-dd6c2c1c244a",
   "metadata": {},
   "outputs": [],
   "source": [
    "data"
   ]
  },
  {
   "cell_type": "code",
   "execution_count": null,
   "id": "27184c4d-325d-4a94-9f5f-c7127accaf46",
   "metadata": {},
   "outputs": [],
   "source": [
    "x=data.drop(['price'],axis=1)\n",
    "y=data.price"
   ]
  },
  {
   "cell_type": "markdown",
   "id": "4c8c05cd-9479-4663-bfd7-b9d0b4425b0c",
   "metadata": {},
   "source": [
    "# Building Models"
   ]
  },
  {
   "cell_type": "code",
   "execution_count": null,
   "id": "11471fd3-7f7a-42bb-bf8c-e90775cb7d57",
   "metadata": {},
   "outputs": [],
   "source": [
    "# never run this\n",
    "\n",
    "regressors = [\n",
    "    LinearRegression(),\n",
    "    GammaRegressor(),\n",
    "    SVR(),\n",
    "    DecisionTreeRegressor(),\n",
    "    RandomForestRegressor(),\n",
    "    MLPRegressor(),\n",
    "    AdaBoostRegressor(),\n",
    "    PassiveAggressiveRegressor(),\n",
    "    KNeighborsRegressor(),\n",
    "    HistGradientBoostingRegressor(),\n",
    "    LGBMRegressor(),\n",
    "    ExtraTreeRegressor(),\n",
    "    XGBRegressor()\n",
    "]\n",
    "n=5\n",
    "acclist=[]\n",
    "acclist1=[]\n",
    "accs=dict()\n",
    "accs1=dict()\n",
    "for regressor in regressors:\n",
    "    acclist=[]\n",
    "    acclist1=[]\n",
    "    for i in range(n):\n",
    "        X_train, X_test, y_train, y_test = train_test_split(x, y, test_size = 0.2)\n",
    "        regressor.fit(X_train, y_train)\n",
    "        y_pred = regressor.predict(X_test)\n",
    "        acc = r2_score(y_test, y_pred)\n",
    "        acc1 = np.sqrt(mean_squared_error(y_test, y_pred))\n",
    "        acclist.append(acc)\n",
    "        acclist1.append(acc1)\n",
    "    accs[regressor]=[np.mean(acclist),np.std(acclist)]\n",
    "    accs1[regressor]=[np.mean(acclist1),np.std(acclist1)]\n",
    "display(accs)\n",
    "display(accs1)"
   ]
  },
  {
   "cell_type": "code",
   "execution_count": null,
   "id": "7579560b-fa02-4c19-93dc-bb8217897851",
   "metadata": {},
   "outputs": [],
   "source": [
    "cvs1=cross_val_score(dtr,X_train,y_train, cv=10)\n",
    "display(cvs1)\n",
    "(cvs1.mean(),cvs1.std())"
   ]
  },
  {
   "cell_type": "code",
   "execution_count": null,
   "id": "05e66c3b-c36d-483f-bc51-884cf133bae0",
   "metadata": {},
   "outputs": [],
   "source": [
    "x=data.drop(['price'],axis=1)\n",
    "y=data.price\n",
    "X_train, X_test, y_train, y_test = train_test_split(x, y, test_size = 0.2,random_state=42)\n",
    "rfr=RandomForestRegressor()\n",
    "rfr.fit(X_train,y_train)\n",
    "y_pred = rfr.predict(X_test)\n",
    "display(r2_score(y_pred,y_test))\n",
    "display(np.sqrt(mean_squared_error(y_pred,y_test)))"
   ]
  },
  {
   "cell_type": "code",
   "execution_count": null,
   "id": "276cc1f3-f47a-41f4-bb58-61e4e6d93e25",
   "metadata": {},
   "outputs": [],
   "source": [
    "x=data.drop(['price'],axis=1)\n",
    "y=data.price\n",
    "X_train1, X_test1, y_train1, y_test1 = train_test_split(x, y, test_size = 0.2)\n",
    "lgpm=LGBMRegressor()\n",
    "lgpm.fit(X_train1,y_train1)\n",
    "y_pred4 = lgpm.predict(X_test1)\n",
    "display(r2_score(y_pred4,y_test1))\n",
    "display(np.sqrt(mean_squared_error(y_pred4,y_test1)))"
   ]
  },
  {
   "cell_type": "code",
   "execution_count": null,
   "id": "31687e9d-b7b9-4306-8533-3b35e970bfd0",
   "metadata": {},
   "outputs": [],
   "source": [
    "# NEVER EVER RUN THIS UNLESS YOU ARE 100 PERCENT SURE\n",
    "\n",
    "param_grid = {\n",
    "    'n_estimators': np.arange(600, 700, 20),\n",
    "    'learning_rate': np.arange(0.04, 0.045, 0.001),\n",
    "    'max_depth': np.arange(5, 8, 1),\n",
    "    'num_leaves': np.arange(20, 41, 5), \n",
    "    'min_child_samples': np.arange(10, 31, 5), \n",
    "    'reg_alpha': [0, 0.1, 0.5, 1.0], \n",
    "    'reg_lambda': [0, 0.1, 0.5, 1.0] \n",
    "}\n",
    "lgbm = LGBMRegressor()\n",
    "grid_search = GridSearchCV(lgbm, param_grid, cv=3, scoring='neg_mean_squared_error')\n",
    "grid_search.fit(X_train1, y_train1)\n",
    "best_params = grid_search.best_params_\n",
    "print(\"Best Parameters:\", best_params)"
   ]
  },
  {
   "cell_type": "code",
   "execution_count": null,
   "id": "a419d7d9-9c44-42d4-9836-967cdb0adc86",
   "metadata": {},
   "outputs": [],
   "source": [
    "x3=data.drop(['price'],axis=1)\n",
    "y3=data.price\n",
    "X_train2, X_test2, y_train2, y_test2 = train_test_split(x3, y3, test_size = 0.2)\n",
    "hg=HistGradientBoostingRegressor()\n",
    "hg.fit(X_train2,y_train2)\n",
    "y_pred5 = hg.predict(X_test2)\n",
    "display(r2_score(y_pred5,y_test2))\n",
    "display(np.sqrt(mean_squared_error(y_pred5,y_test2)))"
   ]
  },
  {
   "cell_type": "code",
   "execution_count": null,
   "id": "675d074f-4eb0-4a15-8651-5d6d8d36011d",
   "metadata": {},
   "outputs": [],
   "source": [
    "data"
   ]
  },
  {
   "cell_type": "code",
   "execution_count": null,
   "id": "1a3aa671-99f3-43c0-83f6-11cda0c6fdc1",
   "metadata": {},
   "outputs": [],
   "source": [
    "x=data.drop(['price'],axis=1)\n",
    "y=data.price\n",
    "hgbr=HistGradientBoostingRegressor()\n",
    "hgbr.fit(x,y)"
   ]
  },
  {
   "cell_type": "markdown",
   "id": "c2706109-d200-4b29-bb57-ea08e95dc5e0",
   "metadata": {},
   "source": [
    "# Testing"
   ]
  },
  {
   "cell_type": "code",
   "execution_count": null,
   "id": "07b5d7e9-96ca-4fd1-9387-0074e73533a9",
   "metadata": {},
   "outputs": [],
   "source": [
    "test=pd.read_csv('test.csv')\n",
    "test"
   ]
  },
  {
   "cell_type": "code",
   "execution_count": null,
   "id": "51f6f660-773a-4e05-9b93-36ae75d90e60",
   "metadata": {},
   "outputs": [],
   "source": [
    "test['color'] = label_encoder.fit_transform(test['color'])\n",
    "test['cut'] = label_encoder.fit_transform(test['cut'])\n",
    "test['clarity'] = label_encoder.fit_transform(test['clarity'])\n",
    "test['carat'] =rs.fit_transform(test[['carat']])\n",
    "test['depth'] =rs.fit_transform(test[['depth']])\n",
    "test['table'] =rs.fit_transform(test[['table']])\n",
    "test['x'] =rs.fit_transform(test[['x']])\n",
    "test['y'] =rs.fit_transform(test[['y']])\n",
    "test['z'] =rs.fit_transform(test[['z']])"
   ]
  },
  {
   "cell_type": "code",
   "execution_count": null,
   "id": "51cbafcc-a126-4fb0-ac94-d5cc33c59e64",
   "metadata": {},
   "outputs": [],
   "source": [
    "test.drop('Id',axis=1)"
   ]
  },
  {
   "cell_type": "code",
   "execution_count": null,
   "id": "92fbdf1f-0480-4093-874e-c770a33f5a5d",
   "metadata": {},
   "outputs": [],
   "source": [
    "test['price']=hgbr.predict(test.drop('Id',axis=1))"
   ]
  },
  {
   "cell_type": "code",
   "execution_count": null,
   "id": "4184361d-4bbd-4591-b4a6-fba4ee3b67b5",
   "metadata": {},
   "outputs": [],
   "source": [
    "test.rename(columns={'Id': 'id'}, inplace=True)"
   ]
  },
  {
   "cell_type": "code",
   "execution_count": null,
   "id": "911ab010-02fd-4133-8993-ba505c4a208f",
   "metadata": {},
   "outputs": [],
   "source": [
    "test1=test[['id','price']]\n",
    "test1"
   ]
  },
  {
   "cell_type": "code",
   "execution_count": null,
   "id": "572186df-3b8c-4fe6-9f8a-609d179e7920",
   "metadata": {},
   "outputs": [],
   "source": [
    "test1.to_csv('final_sub.csv',index=False)"
   ]
  },
  {
   "cell_type": "code",
   "execution_count": null,
   "id": "d787014b-25c1-4daa-99f9-dc78e756be61",
   "metadata": {},
   "outputs": [],
   "source": [
    "x=data.drop(['price'],axis=1)\n",
    "y=data.price\n",
    "lgpm=LGBMRegressor()\n",
    "lgpm.fit(x,y)"
   ]
  },
  {
   "cell_type": "code",
   "execution_count": null,
   "id": "1a793c0a-8cc2-4920-910c-fc9e39ccc8e5",
   "metadata": {},
   "outputs": [],
   "source": [
    "test['price']=lgpm.predict(test.drop(['id','price'],axis=1))"
   ]
  },
  {
   "cell_type": "code",
   "execution_count": null,
   "id": "ca358b18-9b16-415a-a27a-ee2503f4a6e3",
   "metadata": {},
   "outputs": [],
   "source": [
    "test2=test[['id','price']]\n",
    "test2"
   ]
  },
  {
   "cell_type": "code",
   "execution_count": null,
   "id": "65ac83fa-ca72-4900-8bf0-85f98f24263d",
   "metadata": {},
   "outputs": [],
   "source": [
    "test2.to_csv('final_sub1.csv',index=False)"
   ]
  },
  {
   "cell_type": "code",
   "execution_count": null,
   "id": "fc4ec30f-c1be-4605-872a-525b5137a5b4",
   "metadata": {},
   "outputs": [],
   "source": [
    "x=data.drop(['price'],axis=1)\n",
    "y=data.price\n",
    "xgbr=XGBRegressor()\n",
    "xgbr.fit(x,y)\n",
    "test['price']=xgbr.predict(test.drop(['id','price'],axis=1))\n",
    "test3=test[['id','price']]\n",
    "test3"
   ]
  },
  {
   "cell_type": "code",
   "execution_count": null,
   "id": "ee0d1b33-edcd-4843-bb25-f51c3992a486",
   "metadata": {},
   "outputs": [],
   "source": [
    "test3.to_csv('final_sub2.csv',index=False)"
   ]
  },
  {
   "cell_type": "code",
   "execution_count": null,
   "id": "604da0ef-3f02-4d48-869a-6bbe0602371d",
   "metadata": {},
   "outputs": [],
   "source": [
    "x=data.drop(['price'],axis=1)\n",
    "y=data.price\n",
    "hgbr=HistGradientBoostingRegressor()\n",
    "hgbr.fit(x,y)"
   ]
  },
  {
   "cell_type": "code",
   "execution_count": null,
   "id": "aa7bff47-8609-4f44-b613-0030c5faad44",
   "metadata": {},
   "outputs": [],
   "source": [
    "test=pd.read_csv('test.csv')\n",
    "test"
   ]
  },
  {
   "cell_type": "code",
   "execution_count": null,
   "id": "0ca998ac-ebf1-40c6-927c-14104d9c48ba",
   "metadata": {},
   "outputs": [],
   "source": [
    "test['xyz']=test['x']*test['y']*test['z']"
   ]
  },
  {
   "cell_type": "code",
   "execution_count": null,
   "id": "1f935239-0b36-41df-a32f-6a4fc762b2a9",
   "metadata": {},
   "outputs": [],
   "source": [
    "num_features = test.select_dtypes(include=[np.number]).columns\n",
    "for feature in num_features:\n",
    "    if feature not in 'price':\n",
    "        data[feature] = impute_outliers_with_bounds(data[feature])"
   ]
  },
  {
   "cell_type": "code",
   "execution_count": null,
   "id": "8f417c6c-8018-462d-a735-3035a7dd35e4",
   "metadata": {},
   "outputs": [],
   "source": [
    "test['color'] = label_encoder.fit_transform(test['color'])\n",
    "test['cut'] = label_encoder.fit_transform(test['cut'])\n",
    "test['clarity'] = label_encoder.fit_transform(test['clarity'])\n",
    "test['carat'] =qt.fit_transform(test[['carat']])\n",
    "test['depth'] =qt.fit_transform(test[['depth']])\n",
    "test['table'] =qt.fit_transform(test[['table']])\n",
    "test['x'] =qt.fit_transform(test[['x']])\n",
    "test['y'] =qt.fit_transform(test[['y']])\n",
    "test['z'] =qt.fit_transform(test[['z']])"
   ]
  },
  {
   "cell_type": "code",
   "execution_count": null,
   "id": "6bbe4b1c-c630-4ef7-a641-161e054b884e",
   "metadata": {},
   "outputs": [],
   "source": [
    "test['price']=hgbr.predict(test.drop('Id',axis=1))"
   ]
  },
  {
   "cell_type": "code",
   "execution_count": null,
   "id": "0fefa11f-6de3-454e-bc65-07d8a35ee444",
   "metadata": {},
   "outputs": [],
   "source": [
    "test.rename(columns={'Id': 'id'}, inplace=True)"
   ]
  },
  {
   "cell_type": "code",
   "execution_count": null,
   "id": "29c721f4-d908-49d0-8453-534cae0f3a31",
   "metadata": {},
   "outputs": [],
   "source": [
    "test4=test[['id','price']]\n",
    "test4"
   ]
  },
  {
   "cell_type": "code",
   "execution_count": null,
   "id": "620ca19e-1474-44de-96bf-ec4ec465bbdd",
   "metadata": {},
   "outputs": [],
   "source": [
    "test4.to_csv('final_sub4.csv',index=False)"
   ]
  },
  {
   "cell_type": "code",
   "execution_count": null,
   "id": "435c5f5b-7ad7-4980-b5b9-1ef9b2f2175b",
   "metadata": {},
   "outputs": [],
   "source": [
    "x=data.drop(['price'],axis=1)\n",
    "y=data.price\n",
    "xgbr=XGBRegressor()\n",
    "xgbr.fit(x,y)\n",
    "test['price']=xgbr.predict(test.drop(['id','price'],axis=1))\n",
    "test6=test[['id','price']]\n",
    "test6"
   ]
  },
  {
   "cell_type": "code",
   "execution_count": null,
   "id": "1fef638a-f20f-4eaf-92ee-686d1322b816",
   "metadata": {},
   "outputs": [],
   "source": [
    "test"
   ]
  },
  {
   "cell_type": "code",
   "execution_count": null,
   "id": "c18a7187-89d9-4964-9d62-f1faaeae6f20",
   "metadata": {},
   "outputs": [],
   "source": [
    "x=data.drop(['price','Id'],axis=1)\n",
    "y=data.price\n",
    "lgbm=LGBMRegressor()\n",
    "lgbm.fit(x,y)\n",
    "test['price']=lgbm.predict(test.drop(['Id'],axis=1))\n",
    "test.rename(columns={'Id': 'id'}, inplace=True)\n",
    "test6=test[['id','price']]\n",
    "test6"
   ]
  },
  {
   "cell_type": "code",
   "execution_count": null,
   "id": "dacc6d27-cf17-49a8-91d2-757239571861",
   "metadata": {},
   "outputs": [],
   "source": [
    "x=data.drop(['price','Id'],axis=1)\n",
    "y=data.price\n",
    "rfr=RandomForestRegressor()\n",
    "rfr.fit(x,y)\n",
    "test['price']=rfr.predict(test.drop(['Id'],axis=1))\n",
    "test.rename(columns={'Id': 'id'}, inplace=True)\n",
    "test6=test[['id','price']]\n",
    "test6"
   ]
  },
  {
   "cell_type": "code",
   "execution_count": null,
   "id": "5fafecda-0d59-484f-a24f-ab1f4a7c7c24",
   "metadata": {},
   "outputs": [],
   "source": [
    "test6.to_csv('final_sub8.csv',index=False)"
   ]
  },
  {
   "cell_type": "code",
   "execution_count": null,
   "id": "d4219196-b524-4623-a4ee-50832f046c4b",
   "metadata": {},
   "outputs": [],
   "source": [
    "x=data.drop(['Id','price'],axis=1)\n",
    "y=data.price\n",
    "hgbr=HistGradientBoostingRegressor()\n",
    "hgbr.fit(x,y)\n",
    "test['price']=hgbr.predict(test.drop(['id','price'],axis=1))\n",
    "test.rename(columns={'Id': 'id'}, inplace=True)\n",
    "test7=test[['id','price']]\n",
    "test7"
   ]
  },
  {
   "cell_type": "code",
   "execution_count": null,
   "id": "4e8fa812-62a1-4422-85fd-4d3fe6bef199",
   "metadata": {},
   "outputs": [],
   "source": [
    "test7.to_csv('final_sub6.csv',index=False)"
   ]
  },
  {
   "cell_type": "code",
   "execution_count": null,
   "id": "42105a3c-d959-45e9-af07-9260ab9f4e5e",
   "metadata": {},
   "outputs": [],
   "source": [
    "x=data.drop(['price','Id'],axis=1)\n",
    "y=data.price\n",
    "lgbm=LGBMRegressor(learning_rate= 0.042,max_depth= 7,n_estimators= 640)\n",
    "lgbm.fit(x,y)\n",
    "test['price']=lgbm.predict(test.drop(['id','price'],axis=1))\n",
    "test.rename(columns={'Id': 'id'}, inplace=True)\n",
    "test6=test[['id','price']]\n",
    "test6"
   ]
  },
  {
   "cell_type": "code",
   "execution_count": null,
   "id": "6c6f37ee-39e3-4b91-884a-8bbdef0bda6a",
   "metadata": {},
   "outputs": [],
   "source": [
    "test6.to_csv('final_sub14.csv',index=False)"
   ]
  }
 ],
 "metadata": {
  "kernelspec": {
   "display_name": "Python 3 (ipykernel)",
   "language": "python",
   "name": "python3"
  },
  "language_info": {
   "codemirror_mode": {
    "name": "ipython",
    "version": 3
   },
   "file_extension": ".py",
   "mimetype": "text/x-python",
   "name": "python",
   "nbconvert_exporter": "python",
   "pygments_lexer": "ipython3",
   "version": "3.11.5"
  }
 },
 "nbformat": 4,
 "nbformat_minor": 5
}
